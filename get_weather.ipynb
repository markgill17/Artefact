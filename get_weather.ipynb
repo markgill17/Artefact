{
 "cells": [
  {
   "cell_type": "code",
   "execution_count": 18,
   "metadata": {},
   "outputs": [],
   "source": [
    "\n",
    "import pandas as pd\n",
    "from pathlib import Path  \n",
    "df = pd.read_parquet(r'C:\\Users\\Mark\\Downloads\\daily_weather.parquet')#[['city_name','date','avg_temp_c']]\n",
    "df = df.loc[(df['date']>='1999-01-01')&(\n",
    "    (df['date'].dt.month == 1)|\n",
    "    (df['date'].dt.month == 2) |\n",
    "    (df['date'].dt.month == 9) |\n",
    "    (df['date'].dt.month == 10) |\n",
    "    (df['date'].dt.month == 11) |\n",
    "    (df['date'].dt.month == 12)\n",
    "    )&\n",
    "    (df['city_name'].isin([\"Phoenix\", #ARI, LV, SD\n",
    "                           \"Columbia\", #CAR\n",
    "                           \"Nashville\", #TEN\n",
    "                           \"Columbus\", #CIN, PIT, CLE\n",
    "                           \"Annapolis\", #BAL\n",
    "                           \"Washington\", #WAS\n",
    "                           \"Olympia\", #SEA\n",
    "                           \"Denver\", #DEN\n",
    "                           \"Sacramento\", #LAR, LAC, LA, SF, OAK\n",
    "                           \"Providence\", #NE\n",
    "                           \"Indianapolis\", #IND\n",
    "                           \"Tallahassee\", #JAX, TB, MIA, \n",
    "                           \"Madison\", #GB ,CHI\n",
    "                           \"Saint Paul\", #MIN\n",
    "                           \"Lansing\", #DET\n",
    "                           \"Topeka\", #KC, STL\n",
    "                           \"Austin\", #DAL, HOU\n",
    "                           \"Trenton\", #PHI, NYJ, NYG \n",
    "                           \"Albany\", #BUF\n",
    "                           \"Atlanta\", #ATL\n",
    "                           \"Jackson\" #NO\n",
    "                           ]))&(df['date'].dt.day == 15)\n",
    "]\n",
    "'''\n",
    "#nearestWeatherStation = {\"Columbus\":\"PIT\",\"Columbus\":\"CLE\",\"Columbus\":\"CIN\"}\n",
    "#df['teamCode'] = df['city_name'].map(nearestWeatherStation)\n",
    "phoenixList = ['ARI', 'LV', 'SD']\n",
    "d1=dict.fromkeys(phoenixList, 'Phoenix')\n",
    "columbusList = ['CIN', 'CLE', 'PIT']\n",
    "d2=dict.fromkeys(columbusList, 'Columbus')\n",
    "\n",
    "d = {**d1,**d2}\n",
    "print(d)\n",
    "\n",
    "df['teamCode'] = df['city_name'].map(d)\n",
    "'''\n",
    "filepath = Path(r'C:\\Users\\Mark\\OneDrive - Atlantic TU\\Documents\\Data\\weatherData.csv')\n",
    "filepath.parent.mkdir(parents=True, exist_ok=True) \n",
    "df.to_csv(filepath)"
   ]
  }
 ],
 "metadata": {
  "kernelspec": {
   "display_name": "Python 3",
   "language": "python",
   "name": "python3"
  },
  "language_info": {
   "codemirror_mode": {
    "name": "ipython",
    "version": 3
   },
   "file_extension": ".py",
   "mimetype": "text/x-python",
   "name": "python",
   "nbconvert_exporter": "python",
   "pygments_lexer": "ipython3",
   "version": "3.12.3"
  }
 },
 "nbformat": 4,
 "nbformat_minor": 2
}
